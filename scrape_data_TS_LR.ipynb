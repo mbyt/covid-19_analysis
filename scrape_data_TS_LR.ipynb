{
 "cells": [
  {
   "cell_type": "markdown",
   "metadata": {},
   "source": [
    "# Scrape data from Landratsamt (LR) Traunstein (TS)\n",
    "\n",
    "LR TS: https://www.traunstein.com/aktuelles/meldungen"
   ]
  },
  {
   "cell_type": "code",
   "execution_count": null,
   "metadata": {},
   "outputs": [],
   "source": [
    "%reset -f "
   ]
  },
  {
   "cell_type": "code",
   "execution_count": null,
   "metadata": {},
   "outputs": [],
   "source": [
    "from selenium import webdriver\n",
    "from bs4 import BeautifulSoup\n",
    "import time\n",
    "from datetime import datetime, timedelta, date\n",
    "import math\n",
    "import pandas as pd"
   ]
  },
  {
   "cell_type": "code",
   "execution_count": null,
   "metadata": {},
   "outputs": [],
   "source": [
    "# make sure chromedriver is installed\n",
    "# sudo apt install chromium-driver\n",
    "driver = webdriver.Chrome(\"/usr/bin/chromedriver\")"
   ]
  },
  {
   "cell_type": "code",
   "execution_count": null,
   "metadata": {},
   "outputs": [],
   "source": [
    "def get_soup(driver, url):\n",
    "    driver.get(url)\n",
    "    time.sleep(2)\n",
    "    content = driver.page_source\n",
    "    soup = BeautifulSoup(content)\n",
    "    return soup"
   ]
  },
  {
   "cell_type": "markdown",
   "metadata": {},
   "source": [
    "## Bing search `https://www.traunstein.com/aktuelles/meldungen` with keywords \"Insgesamt\" \"Corona\""
   ]
  },
  {
   "cell_type": "code",
   "execution_count": null,
   "metadata": {},
   "outputs": [],
   "source": [
    "url = \"https://www.bing.com/search?q=site%3Atraunstein.com%2Faktuelles%2Fmeldungen+Insgesamt+Corona&count=100\"\n",
    "\n",
    "urls = []\n",
    "for page, ext in [(0, ''), (1, '&first=49')]:\n",
    "    soup = get_soup(driver, url + ext)\n",
    "    _urls = [href for a in soup.find_all('a')\n",
    "          if 'faelle' in (href := a.get('href', '').lower()) and \n",
    "             href.startswith('https://www.traunstein.com')\n",
    "    ]\n",
    "    urls.extend(_urls)\n",
    "\n",
    "urls = set(urls)\n",
    "len(urls)"
   ]
  },
  {
   "cell_type": "markdown",
   "metadata": {},
   "source": [
    "## Extract the actual data from URLs retrieved from bing"
   ]
  },
  {
   "cell_type": "code",
   "execution_count": null,
   "metadata": {},
   "outputs": [],
   "source": [
    "def extract_cases_table(soup):\n",
    "    for div in soup.findAll('div', attrs={'class': 'field-item even', 'property': 'content:encoded'}):\n",
    "        table = div.find('table')\n",
    "        if table is not None:\n",
    "            break\n",
    "    else:\n",
    "        return None\n",
    "\n",
    "    data = []\n",
    "    rows = table.find_all('tr')\n",
    "    for row in rows:\n",
    "        cols = row.find_all('td')\n",
    "        cols = [ele.text.strip() for ele in cols]\n",
    "        data.append([ele for ele in cols if ele]) # Get rid of empty values\n",
    "    return data\n",
    "\n",
    "def get_matching_row(s):\n",
    "    return next((row for row in data for col in row if s.lower() in col.lower()), None)"
   ]
  },
  {
   "cell_type": "markdown",
   "metadata": {},
   "source": [
    "### Example"
   ]
  },
  {
   "cell_type": "code",
   "execution_count": null,
   "metadata": {},
   "outputs": [],
   "source": [
    "url = \"https://www.traunstein.com/aktuelles/meldungen/insgesamt-1278-bestaetigte-corona-faelle-im-landkreis-traunstein\"\n",
    "soup = get_soup(driver, url)\n",
    "extract_cases_table(soup)"
   ]
  },
  {
   "cell_type": "markdown",
   "metadata": {},
   "source": [
    "### Get them all"
   ]
  },
  {
   "cell_type": "code",
   "execution_count": null,
   "metadata": {},
   "outputs": [],
   "source": [
    "all_data = []\n",
    "\n",
    "for i, url in enumerate(urls):\n",
    "    print(i, end=',')\n",
    "    soup = get_soup(driver, url)\n",
    "    \n",
    "    if soup is None:\n",
    "        print('\\nCannot retrieve URL:', url, i)\n",
    "        continue        \n",
    "        \n",
    "    data = extract_cases_table(soup)\n",
    "    \n",
    "    if data is None:\n",
    "        print('\\nCannot parse URL:', url, i)\n",
    "        continue\n",
    "    \n",
    "    date = get_matching_row('stand')[0]\n",
    "    recovered = get_matching_row('geheilt')[1]\n",
    "    death_match = get_matching_row('verstorbene')\n",
    "    if death_match is None:\n",
    "        death = float('nan')\n",
    "        #print('\\nCannot retrieve death from URL:', url)\n",
    "    else:\n",
    "        death = death_match[1]    \n",
    "    active_match = get_matching_row('aktive')\n",
    "    if active_match is None:\n",
    "        active = float('nan')\n",
    "        #print('\\nCannot retrieve active from URL:', url)\n",
    "    else:\n",
    "        active = active_match[1]\n",
    "    \n",
    "    total_idx, total_line = next(((i, row) for row in data for i, col in enumerate(row) if 'gesamt' in col.lower()), None)\n",
    "    date_idx = next((i for i, col in enumerate(total_line) if 'datum' in col.lower()), None)\n",
    "    table_values = [(row[date_idx], row[total_idx]) for row in data if len(row) == len(total_line)]\n",
    "    \n",
    "    all_data.append(dict(\n",
    "        date=date,\n",
    "        recovered=recovered,\n",
    "        table_values=table_values,\n",
    "        url=url,\n",
    "        death=death,\n",
    "        active=active,\n",
    "    ))"
   ]
  },
  {
   "cell_type": "markdown",
   "metadata": {},
   "source": [
    "### Reformat"
   ]
  },
  {
   "cell_type": "code",
   "execution_count": null,
   "metadata": {},
   "outputs": [],
   "source": [
    "all_data_sorted = sorted([(datetime.strptime(d['date'].replace('\\xa0', ''), 'Stand: %d.%m.%Y %H:%M Uhr'), d)\n",
    "                          for d in all_data])"
   ]
  },
  {
   "cell_type": "code",
   "execution_count": null,
   "metadata": {},
   "outputs": [],
   "source": [
    "cases_ts = {}\n",
    "\n",
    "EXTRA_INT_KEYS = ['recovered', 'death', 'active']\n",
    "\n",
    "for date_updated, dvals in all_data_sorted:\n",
    "    du = date_updated.date()\n",
    "    cases_ts.setdefault(du, {})\n",
    "    for key in extra_int_keys:\n",
    "        cases_ts[du][key] = float(dvals[key])\n",
    "    \n",
    "    for date_str, total in dvals['table_values'][1:]:\n",
    "        d = datetime.strptime(date_str, '%d.%m.%Y').date()\n",
    "        cases_ts.setdefault(d, {})\n",
    "        cases_ts[d]['cases'] = int(total)\n",
    "        for key in extra_int_keys:\n",
    "            cases_ts[d].setdefault(key, float('nan'))\n",
    "\n",
    "cases_ts[du]"
   ]
  },
  {
   "cell_type": "markdown",
   "metadata": {},
   "source": [
    "### Clean the data"
   ]
  },
  {
   "cell_type": "code",
   "execution_count": null,
   "metadata": {},
   "outputs": [],
   "source": [
    "# fix very first entry by using the same value as second entry\n",
    "date0, date1, *_  = sorted(cases_ts)\n",
    "for key in EXTRA_INT_KEYS:\n",
    "    assert math.isnan(cases_ts[date0][key])\n",
    "    cases_ts[date0][key] = cases_ts[date1][key]"
   ]
  },
  {
   "cell_type": "code",
   "execution_count": null,
   "metadata": {},
   "outputs": [],
   "source": [
    "# NaN death are 0 (they exist only at the beginning)\n",
    "for k in cases_ts:\n",
    "    if math.isnan(cases_ts[k]['death']):\n",
    "        cases_ts[k]['death'] = 0"
   ]
  },
  {
   "cell_type": "markdown",
   "metadata": {},
   "source": [
    "### Write to file"
   ]
  },
  {
   "cell_type": "code",
   "execution_count": null,
   "metadata": {},
   "outputs": [],
   "source": [
    "df = pd.DataFrame([(k, v['cases'], v['recovered'], v['death'], v['active']) for k, v in sorted(cases_ts.items())],\n",
    "                  columns=['date', 'confirmed', 'recovered_alive', 'death', 'active']).set_index('date')\n",
    "df.index = pd.to_datetime(df.index)\n",
    "df"
   ]
  },
  {
   "cell_type": "code",
   "execution_count": null,
   "metadata": {},
   "outputs": [],
   "source": [
    "df.to_csv('data_raw_TS_LR.csv', line_terminator=\"\\n\")"
   ]
  },
  {
   "cell_type": "code",
   "execution_count": null,
   "metadata": {},
   "outputs": [],
   "source": []
  }
 ],
 "metadata": {
  "kernelspec": {
   "display_name": "Python 3",
   "language": "python",
   "name": "python3"
  },
  "language_info": {
   "codemirror_mode": {
    "name": "ipython",
    "version": 3
   },
   "file_extension": ".py",
   "mimetype": "text/x-python",
   "name": "python",
   "nbconvert_exporter": "python",
   "pygments_lexer": "ipython3",
   "version": "3.8.2"
  }
 },
 "nbformat": 4,
 "nbformat_minor": 4
}
