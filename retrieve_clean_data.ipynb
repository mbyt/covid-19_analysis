{
 "cells": [
  {
   "cell_type": "markdown",
   "metadata": {},
   "source": [
    "# Retrieve, reformat, clean and store data of the Covid-19 pandemic\n",
    "\n",
    "Data sources:\n",
    "* John Hopkins University (**JHU**) - Center for System Science and Engineering (CSSE)\n",
    "* Berliner Morgenpost (**BMP**)"
   ]
  },
  {
   "cell_type": "code",
   "execution_count": null,
   "metadata": {},
   "outputs": [],
   "source": [
    "%reset -f\n",
    "%matplotlib inline\n",
    "\n",
    "import numpy as np\n",
    "import matplotlib.pyplot as plt\n",
    "import pandas as pd\n",
    "import seaborn as sns\n",
    "from datetime import datetime, timedelta\n",
    "from collections import namedtuple, OrderedDict\n",
    "from pathlib import Path\n",
    "\n",
    "plt.rcParams['figure.figsize'] = (15, 8)\n",
    "pd.options.display.max_rows = 8\n",
    "sns.set()"
   ]
  },
  {
   "cell_type": "markdown",
   "metadata": {},
   "source": [
    "## Retrieving JHU data\n",
    "* Dashboard: https://www.arcgis.com/apps/opsdashboard/index.html#/bda7594740fd40299423467b48e9ecf6\n",
    "* Data: https://github.com/CSSEGISandData/COVID-19/tree/master/csse_covid_19_data\n",
    "\n",
    "Data is available as git repo, thus transfer is compressed. It is assumed that the `COVID-19` repo is `git clone`'d at the same directory level as this `covid-19_analysis`.\n",
    "```\n",
    "cd ..\n",
    "git clone  https://github.com/CSSEGISandData/COVID-19.git\n",
    "```"
   ]
  },
  {
   "cell_type": "code",
   "execution_count": null,
   "metadata": {},
   "outputs": [],
   "source": [
    "covid_19_jhu_repo = Path('../COVID-19')\n",
    "\n",
    "my_pwd = %pwd\n",
    "%cd {covid_19_jhu_repo}\n",
    "!git pull\n",
    "%cd {my_pwd}"
   ]
  },
  {
   "cell_type": "code",
   "execution_count": null,
   "metadata": {},
   "outputs": [],
   "source": [
    "filename_confirmed_global_JHU = (covid_19_jhu_repo /\n",
    "  \"csse_covid_19_data/csse_covid_19_time_series/time_series_covid19_confirmed_global.csv\")\n",
    "assert filename_confirmed_global_JHU.exists()\n",
    "\n",
    "confirmed_global_JHU = pd.read_csv(filename_confirmed_global_JHU)\n",
    "print(confirmed_global_JHU.keys()[:5])\n",
    "confirmed_global_JHU.set_index(\"Country/Region\", inplace=True)\n",
    "confirmed_global_JHU.head(3)"
   ]
  },
  {
   "cell_type": "markdown",
   "metadata": {},
   "source": [
    "## Reformat JHU data\n",
    "\n",
    "We are interested in the contries:\n",
    "* Austria\n",
    "* Germany\n",
    "* France\n",
    "\n",
    "We want the table have the data as coloumn (thus transpose it).\n",
    "\n",
    "And the France data is scattered over the departments, thus we need to collect it."
   ]
  },
  {
   "cell_type": "code",
   "execution_count": null,
   "metadata": {},
   "outputs": [],
   "source": [
    "COUNTRIES_SELECTED = [\"Germany\", \"Austria\", \"France\"]\n",
    "\n",
    "date_columns = [c for c in confirmed_global_JHU.columns if c.endswith('/20')]\n",
    "cases_JHU = (confirmed_global_JHU\n",
    "    .loc[confirmed_global_JHU.index.isin(COUNTRIES_SELECTED), date_columns]\n",
    "    .transpose()\n",
    "    .reset_index()\n",
    "    .rename(columns={'index': 'date'})\n",
    ")\n",
    "cases_JHU['date'] = pd.to_datetime(cases_JHU['date'])\n",
    "cases_JHU.set_index('date', inplace=True)\n",
    "print(cases_JHU.tail(1))\n",
    "\n",
    "# there are multiple France, let's sum them to one new France2\n",
    "cases_JHU['France2'] = cases_JHU['France'].sum(axis=1)\n",
    "del cases_JHU['France']\n",
    "_rd = OrderedDict([\n",
    "    ('Germany', 'Germany_JHU'),\n",
    "    ('Austria', 'Austria_JHU'),\n",
    "    ('France2', 'France_JHU'),\n",
    "])\n",
    "cases_JHU.rename(columns=_rd, inplace=True)\n",
    "cases_JHU = cases_JHU.reindex(_rd.values(), axis=1)\n",
    "cases_JHU.tail(4)"
   ]
  },
  {
   "cell_type": "markdown",
   "metadata": {},
   "source": [
    "## Plotting JHU data"
   ]
  },
  {
   "cell_type": "code",
   "execution_count": null,
   "metadata": {},
   "outputs": [],
   "source": [
    "#cases_JHU.plot(style='o-', logy=True)"
   ]
  },
  {
   "cell_type": "markdown",
   "metadata": {},
   "source": [
    "## Retrieving BMP data\n",
    "\n",
    "Total and recovered data are taken manually from the following URL on 2020-04-11:\n",
    "* https://interaktiv.morgenpost.de/corona-virus-karte-infektionen-deutschland-weltweit/"
   ]
  },
  {
   "cell_type": "code",
   "execution_count": null,
   "metadata": {},
   "outputs": [],
   "source": [
    "# print newest date from JHU to align\n",
    "cases_JHU.tail(1)"
   ]
  },
  {
   "cell_type": "code",
   "execution_count": null,
   "metadata": {},
   "outputs": [],
   "source": [
    "CasesBMP = namedtuple('CasesBMP', 'date Germany_confirmed_BMP Germany_recovered_BMP'.split())\n",
    "D = lambda month, day: datetime(2020, month, day)\n",
    "_cbmp = [\n",
    "    # manually add new cases here\n",
    "    #(D(4, 13), 127854, 60260),\n",
    "    (D(4, 12), 127459, 60260), (D(4, 11), 124288, 58190), (D(4, 10), 120157, 55980),\n",
    "    (D(4, 9), 115523, 52407),  (D(4, 8), 111779, 43656),  (D(4, 7), 107458, 37287),\n",
    "    (D(4, 6), 103493, 33300),  (D(4, 5), 100024, 30600),  (D(4, 4), 95614, 28700),\n",
    "    (D(4, 3), 91159, 26400),   (D(4, 2), 84788, 23800),   (D(4, 1), 77779, 21400),    \n",
    "    (D(3, 31), 70985, 18700),  (D(3, 30), 66125, 16100),  (D(3, 29), 58655, 13500),\n",
    "    (D(3, 28), 54268, 11500),  (D(3, 27), 49039, 9600),   (D(3, 26), 43211, 7600),\n",
    "    (D(3, 25), 37613, 5900),   (D(3, 24), 32991, 5600),   (D(3, 23), 29056, 2753),\n",
    "    (D(3, 22), 24875, 268),    (D(3, 21), 22366, 241),    (D(3, 20), 19850, 182),\n",
    "    (D(3, 19), 15322, 117),    (D(3, 18), 12329, 107),    (D(3, 17), 9362, 73),\n",
    "    (D(3, 16), 7274, 69),      (D(3, 15), 5815, 48),      (D(3, 14), 4587, 48),\n",
    "    (D(3, 13), 3677, 48),      (D(3, 12), 2747, 27),      (D(3, 11), 1969, 27),\n",
    "    (D(3, 10), 1567, 20),      (D(3, 9), 1146, 16),       (D(3, 8), 900, 16),\n",
    "    (D(3, 7), 797, 16),        (D(3, 6), 641, 16),        (D(3, 5), 402, 16),\n",
    "    (D(3, 4), 265, 16),        (D(3, 3), 190, 16),        (D(3, 2), 152, 16),\n",
    "]    \n",
    "cases_BMP = pd.DataFrame((CasesBMP(*c) for c in reversed(_cbmp))).set_index('date')\n",
    "cases_BMP.tail(3)"
   ]
  },
  {
   "cell_type": "markdown",
   "metadata": {},
   "source": [
    "## Plotting BMP data"
   ]
  },
  {
   "cell_type": "code",
   "execution_count": null,
   "metadata": {},
   "outputs": [],
   "source": [
    "#cases_BMP.plot(style='o-', logy=True)"
   ]
  },
  {
   "cell_type": "markdown",
   "metadata": {},
   "source": [
    "## Join JHU and BMP data, plot and write to file"
   ]
  },
  {
   "cell_type": "code",
   "execution_count": null,
   "metadata": {},
   "outputs": [],
   "source": [
    "df = cases_JHU.join(cases_BMP)\n",
    "df.tail(3)"
   ]
  },
  {
   "cell_type": "code",
   "execution_count": null,
   "metadata": {},
   "outputs": [],
   "source": [
    "#df.plot(style='o-', logy=True, alpha=0.5)"
   ]
  },
  {
   "cell_type": "code",
   "execution_count": null,
   "metadata": {},
   "outputs": [],
   "source": [
    "df.to_csv('cases.csv')"
   ]
  },
  {
   "cell_type": "code",
   "execution_count": null,
   "metadata": {},
   "outputs": [],
   "source": []
  }
 ],
 "metadata": {
  "kernelspec": {
   "display_name": "Python 3",
   "language": "python",
   "name": "python3"
  },
  "language_info": {
   "codemirror_mode": {
    "name": "ipython",
    "version": 3
   },
   "file_extension": ".py",
   "mimetype": "text/x-python",
   "name": "python",
   "nbconvert_exporter": "python",
   "pygments_lexer": "ipython3",
   "version": "3.6.5"
  }
 },
 "nbformat": 4,
 "nbformat_minor": 4
}
